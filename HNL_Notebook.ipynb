{
 "cells": [
  {
   "cell_type": "code",
   "execution_count": 1,
   "id": "01ea47f2-05b5-4b49-84de-de8fc66e9dab",
   "metadata": {},
   "outputs": [],
   "source": [
    "# Import the necessary modules\n",
    "from IPython.display import display, IFrame"
   ]
  },
  {
   "cell_type": "code",
   "execution_count": 2,
   "id": "79917b45-050a-46de-978b-1c5bb1f3286a",
   "metadata": {},
   "outputs": [],
   "source": [
    "# Embed URL of the dashboard\n",
    "embed_url = \"https://app.powerbi.com/reportEmbed?reportId=ad007a2d-d79d-40ee-9f7d-67a96c0e4c64&autoAuth=true&ctid=47855545-00bb-4800-a65f-e79104ec0fc4\""
   ]
  },
  {
   "cell_type": "code",
   "execution_count": 9,
   "id": "5bda1032-28e3-4f8d-893a-93580f7153ba",
   "metadata": {},
   "outputs": [],
   "source": [
    "# Generate HTML code to embed the dashboard\n",
    "dashboard_iframe = IFrame(embed_url, width=\"100%\", height=\"900px\")"
   ]
  },
  {
   "cell_type": "code",
   "execution_count": 10,
   "id": "01f36a99-dd15-4cd3-9477-d02eab8e03f0",
   "metadata": {},
   "outputs": [
    {
     "data": {
      "text/html": [
       "\n",
       "        <iframe\n",
       "            width=\"100%\"\n",
       "            height=\"900px\"\n",
       "            src=\"https://app.powerbi.com/reportEmbed?reportId=ad007a2d-d79d-40ee-9f7d-67a96c0e4c64&autoAuth=true&ctid=47855545-00bb-4800-a65f-e79104ec0fc4\"\n",
       "            frameborder=\"0\"\n",
       "            allowfullscreen\n",
       "        ></iframe>\n",
       "        "
      ],
      "text/plain": [
       "<IPython.lib.display.IFrame at 0x20636131370>"
      ]
     },
     "metadata": {},
     "output_type": "display_data"
    }
   ],
   "source": [
    "# Display the embedded dashboard in Jupyter Notebook\n",
    "display(dashboard_iframe)"
   ]
  },
  {
   "cell_type": "code",
   "execution_count": null,
   "id": "243596af-e0e5-4f09-9ec3-acdc0269b949",
   "metadata": {},
   "outputs": [],
   "source": []
  }
 ],
 "metadata": {
  "kernelspec": {
   "display_name": "Python 3",
   "language": "python",
   "name": "python3"
  },
  "language_info": {
   "codemirror_mode": {
    "name": "ipython",
    "version": 3
   },
   "file_extension": ".py",
   "mimetype": "text/x-python",
   "name": "python",
   "nbconvert_exporter": "python",
   "pygments_lexer": "ipython3",
   "version": "3.8.8"
  }
 },
 "nbformat": 4,
 "nbformat_minor": 5
}
